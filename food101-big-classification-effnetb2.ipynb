{
 "cells": [
  {
   "cell_type": "markdown",
   "id": "fc4d7613",
   "metadata": {
    "papermill": {
     "duration": 0.002177,
     "end_time": "2024-08-06T20:06:10.588001",
     "exception": false,
     "start_time": "2024-08-06T20:06:10.585824",
     "status": "completed"
    },
    "tags": []
   },
   "source": [
    "## 0 - Get setup"
   ]
  }
 ],
 "metadata": {
  "kaggle": {
   "accelerator": "none",
   "dataSources": [],
   "isGpuEnabled": false,
   "isInternetEnabled": true,
   "language": "python",
   "sourceType": "notebook"
  },
  "kernelspec": {
   "display_name": "Python 3",
   "language": "python",
   "name": "python3"
  },
  "language_info": {
   "codemirror_mode": {
    "name": "ipython",
    "version": 3
   },
   "file_extension": ".py",
   "mimetype": "text/x-python",
   "name": "python",
   "nbconvert_exporter": "python",
   "pygments_lexer": "ipython3",
   "version": "3.10.13"
  },
  "papermill": {
   "default_parameters": {},
   "duration": 2.897328,
   "end_time": "2024-08-06T20:06:10.808476",
   "environment_variables": {},
   "exception": null,
   "input_path": "__notebook__.ipynb",
   "output_path": "__notebook__.ipynb",
   "parameters": {},
   "start_time": "2024-08-06T20:06:07.911148",
   "version": "2.5.0"
  }
 },
 "nbformat": 4,
 "nbformat_minor": 5
}
